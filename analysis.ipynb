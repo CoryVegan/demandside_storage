{
 "metadata": {
  "name": ""
 },
 "nbformat": 3,
 "nbformat_minor": 0,
 "worksheets": [
  {
   "cells": [
    {
     "cell_type": "heading",
     "level": 1,
     "metadata": {},
     "source": [
      "Analysis of Demand-side Storage Model"
     ]
    },
    {
     "cell_type": "markdown",
     "metadata": {},
     "source": [
      "This notebook executes several analyses to assess the feasibility of purchasing batteries for electricity storage.  Annual electricity costs are reduced by opting into a time-of-use pricing plan and purchasing electricity during less expensive off-peak hours.\n",
      "\n",
      "Created by Justin Elszasz."
     ]
    },
    {
     "cell_type": "code",
     "collapsed": false,
     "input": [
      "# Full descriptions of these models can be found in the docstrings for each module.\n",
      "\n",
      "\"\"\" TOU_pricing.py contains functions that determine the season, period (peak, off-peak, intermediate), \n",
      "and cost of electricity for each hour of a timestampd dataframe containing hourly residential \n",
      "electricity consumption.\"\"\"\n",
      "import TOU_pricing\n",
      "\n",
      "\"\"\" storage_logic.py contains functions that implement a control algorithm for the purchase of electricity\n",
      "based on available storage and period of the day (peak, off-peak). \"\"\"\n",
      "import storage_logic\n",
      "\n",
      "\"\"\" calculations.py contains functions which return key metrics for analyzing the model output.\"\"\"\n",
      "import calculations\n",
      "\n",
      "import pandas as pd\n",
      "import numpy as np\n",
      "import time\n"
     ],
     "language": "python",
     "metadata": {},
     "outputs": [],
     "prompt_number": 37
    },
    {
     "cell_type": "code",
     "collapsed": false,
     "input": [
      "# Reload modules during development\n",
      "reload(TOU_pricing)\n",
      "reload(storage_logic)\n",
      "reload(calculations)"
     ],
     "language": "python",
     "metadata": {},
     "outputs": [
      {
       "metadata": {},
       "output_type": "pyout",
       "prompt_number": 38,
       "text": [
        "<module 'TOU_pricing' from 'TOU_pricing.pyc'>"
       ]
      }
     ],
     "prompt_number": 38
    },
    {
     "cell_type": "heading",
     "level": 2,
     "metadata": {},
     "source": [
      "Battery Size Analysis"
     ]
    },
    {
     "cell_type": "markdown",
     "metadata": {},
     "source": [
      "This section analyzes the performance of the model based on the size of batteries in the system in kilowatt-hours."
     ]
    },
    {
     "cell_type": "markdown",
     "metadata": {},
     "source": [
      "Define efficiencies of inverter and battery."
     ]
    },
    {
     "cell_type": "code",
     "collapsed": false,
     "input": [
      "def inverter_efficiency(direction):\n",
      "    if direction == 'charging':\n",
      "        eff = .85\n",
      "    elif direction == 'discharging':\n",
      "        eff = .85\n",
      "    return eff\n",
      "\n",
      "def battery_efficiency(direction):\n",
      "    if direction == 'charging':\n",
      "        eff = .85\n",
      "    elif direction == 'discharging':\n",
      "        eff = .85\n",
      "    return eff"
     ],
     "language": "python",
     "metadata": {},
     "outputs": [],
     "prompt_number": 3
    },
    {
     "cell_type": "markdown",
     "metadata": {},
     "source": [
      "Create array of all the battery sizes to be analyzed."
     ]
    },
    {
     "cell_type": "code",
     "collapsed": false,
     "input": [
      "battery_sizes = [1., 2., 5., 7.5, 10., 15., 20., 25., 30.]\n",
      "max_dod = .2"
     ],
     "language": "python",
     "metadata": {},
     "outputs": [],
     "prompt_number": 4
    },
    {
     "cell_type": "markdown",
     "metadata": {},
     "source": [
      "This loop determines the model output for each battery size and the relevant metrics for each output.  If save_results is True, a csv for each output (all hourly flows for one year) is saved for each battery size along with a csv containing the metrics for each battery size."
     ]
    },
    {
     "cell_type": "code",
     "collapsed": false,
     "input": [
      "save_results = True\n",
      "t0 = time.time()\n",
      "\n",
      "for i, bat_size in enumerate(battery_sizes):\n",
      "\n",
      "    system_param = {\n",
      "        'Inverter Cost' : 1500., # ballpark\n",
      "        'Storage Cost' : 200. / 1.2, # cost per kilowatt-hour based on link above\n",
      "        'Storage Size' : bat_size,  # storage size in kilowatt-hours\n",
      "        'Max Charge Rate' : bat_size / 8.,\n",
      "        'Max DOD' : max_dod, # DOD\n",
      "        'Bat Depleted' : max_dod * bat_size,\n",
      "        'Inverter Efficiency' : inverter_efficiency,\n",
      "        'Battery Efficiency' : battery_efficiency,\n",
      "    }\n",
      "\n",
      "    results = storage_logic.main(TOU_pricing.main('EV', False), system_param)\n",
      "    filename = 'results/storage_size/output_%s_kWh.csv'%bat_size\n",
      "    if save_results == True: results.to_csv(filename)\n",
      "    \n",
      "    metrics = calculations.calc_metrics(results, system_param)\n",
      "\n",
      "    if i == 0: all_metrics = pd.DataFrame(index=battery_sizes, columns=metrics.keys()) \n",
      "        \n",
      "    all_metrics['Total kWh Purchased'][bat_size] = metrics['Total kWh Purchased']\n",
      "    all_metrics['% Purchased During Peak'][bat_size] = metrics['% Purchased During Peak']\n",
      "    all_metrics['% Purchased During Off-Peak'][bat_size] =  metrics['% Purchased During Off-Peak']\n",
      "    all_metrics['Hours on Battery Only'][bat_size] = metrics['Hours on Battery Only']\n",
      "    all_metrics['% Peak Demand Battery'][bat_size] = metrics['% Peak Demand Battery']\n",
      "    all_metrics['Hours Battery Full'][bat_size] = metrics['Hours Battery Full']\n",
      "    all_metrics['Hours Battery Depleted'][bat_size] = metrics['Hours Battery Depleted']\n",
      "    all_metrics['Annual System Eff'][bat_size] = metrics['Annual System Eff']\n",
      "    all_metrics['Annual Var Cost'][bat_size] = metrics['Annual Var Cost']\n",
      "    all_metrics['Initial Cost'][bat_size] = metrics['Initial Cost']\n",
      "    all_metrics['Peak kWh Shaved'][bat_size] = metrics['Peak kWh Shaved']\n",
      "    all_metrics['% Peak kWh Shaved'][bat_size] = metrics['% Peak kWh Shaved']\n",
      "    all_metrics['PBP'][bat_size] = metrics['PBP']\n",
      "\n",
      "if save_results == True: all_metrics.to_csv('results/storage_size/all_metrics_storage_size.csv')    \n",
      "    \n",
      "t1 = time.time()\n",
      "\n",
      "print 'Time for model run:',round(t1-t0,1),'s'\n",
      "\n"
     ],
     "language": "python",
     "metadata": {},
     "outputs": [
      {
       "output_type": "stream",
       "stream": "stdout",
       "text": [
        "Time for model run: 151.1 s\n"
       ]
      }
     ],
     "prompt_number": 27
    },
    {
     "cell_type": "markdown",
     "metadata": {},
     "source": [
      "Plot the simple payback period as a function of battery size."
     ]
    },
    {
     "cell_type": "code",
     "collapsed": false,
     "input": [
      "all_metrics['PBP'].plot(grid='off')\n",
      "title('Payback Period in Years')\n",
      "xlabel('Storage Size (kWh)')\n",
      "ylabel('Years')"
     ],
     "language": "python",
     "metadata": {},
     "outputs": [
      {
       "metadata": {},
       "output_type": "pyout",
       "prompt_number": 36,
       "text": [
        "<matplotlib.text.Text at 0x10fac3090>"
       ]
      },
      {
       "metadata": {},
       "output_type": "display_data",
       "png": "[encoded data removed]",
       "text": [
        "<matplotlib.figure.Figure at 0x10f9cc0d0>"
       ]
      }
     ],
     "prompt_number": 36
    },
    {
     "cell_type": "code",
     "collapsed": false,
     "input": [],
     "language": "python",
     "metadata": {},
     "outputs": [],
     "prompt_number": 25
    },
    {
     "cell_type": "code",
     "collapsed": false,
     "input": [],
     "language": "python",
     "metadata": {},
     "outputs": [],
     "prompt_number": 25
    },
    {
     "cell_type": "code",
     "collapsed": false,
     "input": [],
     "language": "python",
     "metadata": {},
     "outputs": [],
     "prompt_number": 25
    },
    {
     "cell_type": "code",
     "collapsed": false,
     "input": [],
     "language": "python",
     "metadata": {},
     "outputs": [],
     "prompt_number": 13
    },
    {
     "cell_type": "heading",
     "level": 2,
     "metadata": {},
     "source": [
      "Battery Efficiency"
     ]
    },
    {
     "cell_type": "code",
     "collapsed": false,
     "input": [
      "bat_effs = [0.7, 0.75, 0.8, 0.85, 0.9, 0.95]\n",
      "\n",
      "for i, bat_eff in enumerate(battery_sizes):\n",
      "\n",
      "def inverter_efficiency(direction):\n",
      "    if direction == 'charging':\n",
      "        eff = .85\n",
      "    elif direction == 'discharging':\n",
      "        eff = .85\n",
      "    return eff\n",
      "\n",
      "def battery_efficiency(direction):\n",
      "    if direction == 'charging':\n",
      "        eff = bat_effs[i]\n",
      "    elif direction == 'discharging':\n",
      "        eff = bat_effs[i]\n",
      "    return eff\n",
      "\n",
      "bat_size = 5.\n",
      "max_dod = .2\n",
      "\n",
      "system_param = {\n",
      "    'Inverter Cost' : 1500., # ballpark\n",
      "    'Storage Cost' : 200. / 1.2, # cost per kilowatt-hour based on link above\n",
      "    'Storage Size' : bat_size,  # storage size in kilowatt-hours\n",
      "    'Max Charge Rate' : bat_size / 8.,\n",
      "    'Max DOD' : max_dod, # DOD\n",
      "    'Bat Depleted' : max_dod * battery_sizes[i],\n",
      "    'Inverter Efficiency' : inverter_efficiency,\n",
      "    'Battery Efficiency' : battery_efficiency,\n",
      "}\n",
      "\n",
      "metrics = calc_metrics(storage_logic.main(TOU_pricing.main('EV',False), system_param), system_param)\n",
      "\n",
      "if i == 0: all_metrics = pd.DataFrame(index=bat_effs, columns=metrics.keys()) \n",
      "    \n",
      "all_metrics['Total kWh Purchased'][bat_eff] = metrics['Total kWh Purchased']\n",
      "all_metrics['% Purchased During Peak'][bat_eff] = metrics['% Purchased During Peak']\n",
      "all_metrics['% Purchased During Off-Peak'][bat_eff] =  metrics['% Purchased During Off-Peak']\n",
      "all_metrics['Hours on Battery Only'][bat_eff] = metrics['Hours on Battery Only']\n",
      "all_metrics['% Peak Demand Battery'][bat_eff] = metrics['% Peak Demand Battery']\n",
      "all_metrics['Hours Battery Full'][bat_eff] = metrics['Hours Battery Full']\n",
      "all_metrics['Hours Battery Depleted'][bat_eff] = metrics['Hours Battery Depleted']\n",
      "all_metrics['Annual System Eff'][bat_eff] = metrics['Annual System Eff']\n",
      "all_metrics['Annual Var Cost'][bat_eff] = metrics['Annual Var Cost']\n",
      "all_metrics['Initial Cost'][bat_eff] = metrics['Initial Cost']\n",
      "all_metrics['Peak kWh Shaved'][bat_eff] = metrics['Peak kWh Shaved']\n",
      "all_metrics['% Peak kWh Shaved'][bat_eff] = metrics['% Peak kWh Shaved']\n",
      "all_metrics['PBP'][bat_eff] = metrics['PBP']\n",
      "\n",
      "all_metrics.to_csv('all_metrics_battery_efficiency.csv') "
     ],
     "language": "python",
     "metadata": {},
     "outputs": []
    },
    {
     "cell_type": "code",
     "collapsed": false,
     "input": [
      "a = TOU_pricing.main('EV', False)\n",
      "a[48:72]"
     ],
     "language": "python",
     "metadata": {},
     "outputs": [],
     "prompt_number": 15
    },
    {
     "cell_type": "code",
     "collapsed": false,
     "input": [],
     "language": "python",
     "metadata": {},
     "outputs": [
      {
       "html": [
        "<div style=\"max-height:1000px;max-width:1500px;overflow:auto;\">\n",
        "<table border=\"1\" class=\"dataframe\">\n",
        "  <thead>\n",
        "    <tr style=\"text-align: right;\">\n",
        "      <th></th>\n",
        "      <th>USAGE</th>\n",
        "      <th>season</th>\n",
        "      <th>period</th>\n",
        "      <th>cost</th>\n",
        "    </tr>\n",
        "  </thead>\n",
        "  <tbody>\n",
        "    <tr>\n",
        "      <th>2011-01-03 08:00:00</th>\n",
        "      <td> 0.808</td>\n",
        "      <td> non_summer</td>\n",
        "      <td> offpeak</td>\n",
        "      <td> 0.05209</td>\n",
        "    </tr>\n",
        "    <tr>\n",
        "      <th>2011-01-03 09:00:00</th>\n",
        "      <td> 0.748</td>\n",
        "      <td> non_summer</td>\n",
        "      <td> offpeak</td>\n",
        "      <td> 0.05209</td>\n",
        "    </tr>\n",
        "    <tr>\n",
        "      <th>2011-01-03 10:00:00</th>\n",
        "      <td> 0.714</td>\n",
        "      <td> non_summer</td>\n",
        "      <td> offpeak</td>\n",
        "      <td> 0.05209</td>\n",
        "    </tr>\n",
        "    <tr>\n",
        "      <th>2011-01-03 11:00:00</th>\n",
        "      <td> 0.690</td>\n",
        "      <td> non_summer</td>\n",
        "      <td> offpeak</td>\n",
        "      <td> 0.05209</td>\n",
        "    </tr>\n",
        "    <tr>\n",
        "      <th>2011-01-03 12:00:00</th>\n",
        "      <td> 0.711</td>\n",
        "      <td> non_summer</td>\n",
        "      <td> offpeak</td>\n",
        "      <td> 0.05209</td>\n",
        "    </tr>\n",
        "    <tr>\n",
        "      <th>2011-01-03 13:00:00</th>\n",
        "      <td> 0.829</td>\n",
        "      <td> non_summer</td>\n",
        "      <td> offpeak</td>\n",
        "      <td> 0.05209</td>\n",
        "    </tr>\n",
        "    <tr>\n",
        "      <th>2011-01-03 14:00:00</th>\n",
        "      <td> 0.964</td>\n",
        "      <td> non_summer</td>\n",
        "      <td> offpeak</td>\n",
        "      <td> 0.05209</td>\n",
        "    </tr>\n",
        "    <tr>\n",
        "      <th>2011-01-03 15:00:00</th>\n",
        "      <td> 0.962</td>\n",
        "      <td> non_summer</td>\n",
        "      <td> offpeak</td>\n",
        "      <td> 0.05209</td>\n",
        "    </tr>\n",
        "    <tr>\n",
        "      <th>2011-01-03 16:00:00</th>\n",
        "      <td> 1.050</td>\n",
        "      <td> non_summer</td>\n",
        "      <td> offpeak</td>\n",
        "      <td> 0.05209</td>\n",
        "    </tr>\n",
        "    <tr>\n",
        "      <th>2011-01-03 17:00:00</th>\n",
        "      <td> 1.096</td>\n",
        "      <td> non_summer</td>\n",
        "      <td>    peak</td>\n",
        "      <td> 0.05209</td>\n",
        "    </tr>\n",
        "    <tr>\n",
        "      <th>2011-01-03 18:00:00</th>\n",
        "      <td> 1.111</td>\n",
        "      <td> non_summer</td>\n",
        "      <td>    peak</td>\n",
        "      <td> 0.05209</td>\n",
        "    </tr>\n",
        "    <tr>\n",
        "      <th>2011-01-03 19:00:00</th>\n",
        "      <td> 1.127</td>\n",
        "      <td> non_summer</td>\n",
        "      <td>    peak</td>\n",
        "      <td> 0.05209</td>\n",
        "    </tr>\n",
        "    <tr>\n",
        "      <th>2011-01-03 20:00:00</th>\n",
        "      <td> 1.165</td>\n",
        "      <td> non_summer</td>\n",
        "      <td>    peak</td>\n",
        "      <td> 0.05209</td>\n",
        "    </tr>\n",
        "    <tr>\n",
        "      <th>2011-01-03 21:00:00</th>\n",
        "      <td> 1.055</td>\n",
        "      <td> non_summer</td>\n",
        "      <td> offpeak</td>\n",
        "      <td> 0.05209</td>\n",
        "    </tr>\n",
        "    <tr>\n",
        "      <th>2011-01-03 22:00:00</th>\n",
        "      <td> 1.007</td>\n",
        "      <td> non_summer</td>\n",
        "      <td> offpeak</td>\n",
        "      <td> 0.05209</td>\n",
        "    </tr>\n",
        "    <tr>\n",
        "      <th>2011-01-03 23:00:00</th>\n",
        "      <td> 0.982</td>\n",
        "      <td> non_summer</td>\n",
        "      <td> offpeak</td>\n",
        "      <td> 0.05209</td>\n",
        "    </tr>\n",
        "    <tr>\n",
        "      <th>2011-01-04 00:00:00</th>\n",
        "      <td> 1.057</td>\n",
        "      <td> non_summer</td>\n",
        "      <td> offpeak</td>\n",
        "      <td> 0.05209</td>\n",
        "    </tr>\n",
        "    <tr>\n",
        "      <th>2011-01-04 01:00:00</th>\n",
        "      <td> 1.399</td>\n",
        "      <td> non_summer</td>\n",
        "      <td> offpeak</td>\n",
        "      <td> 0.05209</td>\n",
        "    </tr>\n",
        "    <tr>\n",
        "      <th>2011-01-04 02:00:00</th>\n",
        "      <td> 1.532</td>\n",
        "      <td> non_summer</td>\n",
        "      <td> offpeak</td>\n",
        "      <td> 0.05209</td>\n",
        "    </tr>\n",
        "    <tr>\n",
        "      <th>2011-01-04 03:00:00</th>\n",
        "      <td> 1.444</td>\n",
        "      <td> non_summer</td>\n",
        "      <td> offpeak</td>\n",
        "      <td> 0.05209</td>\n",
        "    </tr>\n",
        "    <tr>\n",
        "      <th>2011-01-04 04:00:00</th>\n",
        "      <td> 1.445</td>\n",
        "      <td> non_summer</td>\n",
        "      <td> offpeak</td>\n",
        "      <td> 0.05209</td>\n",
        "    </tr>\n",
        "    <tr>\n",
        "      <th>2011-01-04 05:00:00</th>\n",
        "      <td> 1.275</td>\n",
        "      <td> non_summer</td>\n",
        "      <td> offpeak</td>\n",
        "      <td> 0.05209</td>\n",
        "    </tr>\n",
        "    <tr>\n",
        "      <th>2011-01-04 06:00:00</th>\n",
        "      <td> 1.040</td>\n",
        "      <td> non_summer</td>\n",
        "      <td> offpeak</td>\n",
        "      <td> 0.05209</td>\n",
        "    </tr>\n",
        "    <tr>\n",
        "      <th>2011-01-04 07:00:00</th>\n",
        "      <td> 0.843</td>\n",
        "      <td> non_summer</td>\n",
        "      <td> offpeak</td>\n",
        "      <td> 0.05209</td>\n",
        "    </tr>\n",
        "  </tbody>\n",
        "</table>\n",
        "</div>"
       ],
       "metadata": {},
       "output_type": "pyout",
       "prompt_number": 16,
       "text": [
        "                     USAGE      season   period     cost\n",
        "2011-01-03 08:00:00  0.808  non_summer  offpeak  0.05209\n",
        "2011-01-03 09:00:00  0.748  non_summer  offpeak  0.05209\n",
        "2011-01-03 10:00:00  0.714  non_summer  offpeak  0.05209\n",
        "2011-01-03 11:00:00  0.690  non_summer  offpeak  0.05209\n",
        "2011-01-03 12:00:00  0.711  non_summer  offpeak  0.05209\n",
        "2011-01-03 13:00:00  0.829  non_summer  offpeak  0.05209\n",
        "2011-01-03 14:00:00  0.964  non_summer  offpeak  0.05209\n",
        "2011-01-03 15:00:00  0.962  non_summer  offpeak  0.05209\n",
        "2011-01-03 16:00:00  1.050  non_summer  offpeak  0.05209\n",
        "2011-01-03 17:00:00  1.096  non_summer     peak  0.05209\n",
        "2011-01-03 18:00:00  1.111  non_summer     peak  0.05209\n",
        "2011-01-03 19:00:00  1.127  non_summer     peak  0.05209\n",
        "2011-01-03 20:00:00  1.165  non_summer     peak  0.05209\n",
        "2011-01-03 21:00:00  1.055  non_summer  offpeak  0.05209\n",
        "2011-01-03 22:00:00  1.007  non_summer  offpeak  0.05209\n",
        "2011-01-03 23:00:00  0.982  non_summer  offpeak  0.05209\n",
        "2011-01-04 00:00:00  1.057  non_summer  offpeak  0.05209\n",
        "2011-01-04 01:00:00  1.399  non_summer  offpeak  0.05209\n",
        "2011-01-04 02:00:00  1.532  non_summer  offpeak  0.05209\n",
        "2011-01-04 03:00:00  1.444  non_summer  offpeak  0.05209\n",
        "2011-01-04 04:00:00  1.445  non_summer  offpeak  0.05209\n",
        "2011-01-04 05:00:00  1.275  non_summer  offpeak  0.05209\n",
        "2011-01-04 06:00:00  1.040  non_summer  offpeak  0.05209\n",
        "2011-01-04 07:00:00  0.843  non_summer  offpeak  0.05209"
       ]
      }
     ],
     "prompt_number": 16
    },
    {
     "cell_type": "code",
     "collapsed": false,
     "input": [
      "import sys\n",
      "print sys.version"
     ],
     "language": "python",
     "metadata": {},
     "outputs": [
      {
       "output_type": "stream",
       "stream": "stdout",
       "text": [
        "2.7.3 |EPD_free 7.3-2 (32-bit)| (default, Apr 12 2012, 11:28:34) \n",
        "[GCC 4.0.1 (Apple Inc. build 5493)]\n"
       ]
      }
     ],
     "prompt_number": 17
    },
    {
     "cell_type": "code",
     "collapsed": false,
     "input": [],
     "language": "python",
     "metadata": {},
     "outputs": [],
     "prompt_number": 18
    },
    {
     "cell_type": "code",
     "collapsed": false,
     "input": [],
     "language": "python",
     "metadata": {},
     "outputs": []
    }
   ],
   "metadata": {}
  }
 ]
}