{
 "metadata": {
  "name": "",
  "signature": "sha256:6e9e6e0633d2e833a56ee70d951aa3ee63c102add75a3b3ebef34f3ce8883196"
 },
 "nbformat": 3,
 "nbformat_minor": 0,
 "worksheets": [
  {
   "cells": [
    {
     "cell_type": "heading",
     "level": 1,
     "metadata": {},
     "source": [
      "Analysis of Demand-side Storage Model"
     ]
    },
    {
     "cell_type": "markdown",
     "metadata": {},
     "source": [
      "This notebook executes several analyses to assess the feasibility of purchasing batteries for electricity storage.  Annual electricity costs are reduced by opting into a time-of-use pricing plan and purchasing electricity during less expensive off-peak hours.\n",
      "\n",
      "Created by Justin Elszasz."
     ]
    },
    {
     "cell_type": "code",
     "collapsed": false,
     "input": [
      "# Full descriptions of these models can be found in the docstrings for each module.\n",
      "\n",
      "#TOU_pricing.py contains functions that determine the season, period (peak, off-peak, intermediate), \n",
      "#and cost of electricity for each hour of a timestampd dataframe containing hourly residential \n",
      "#electricity consumption.\n",
      "import TOU_pricing\n",
      "\n",
      "\n",
      "#storage_logic.py contains functions that implement a control algorithm for the purchase of electricity\n",
      "#based on available storage and period of the day (peak, off-peak). \n",
      "import storage_logic\n",
      "\n",
      "#calculations.py contains functions which return key metrics for analyzing the model output.\n",
      "import calculations\n",
      "\n",
      "import pandas as pd\n",
      "import numpy as np\n",
      "import time\n"
     ],
     "language": "python",
     "metadata": {},
     "outputs": [
      {
       "output_type": "stream",
       "stream": "stderr",
       "text": [
        "/Users/Justin/Library/Enthought/Canopy_64bit/User/lib/python2.7/site-packages/pandas/io/excel.py:626: UserWarning: Installed openpyxl is not supported at this time. Use >=1.6.1 and <2.0.0.\n",
        "  .format(openpyxl_compat.start_ver, openpyxl_compat.stop_ver))\n"
       ]
      }
     ],
     "prompt_number": 1
    },
    {
     "cell_type": "code",
     "collapsed": false,
     "input": [
      "# Reload modules during development\n",
      "reload(TOU_pricing)\n",
      "reload(storage_logic)\n",
      "reload(calculations)"
     ],
     "language": "python",
     "metadata": {},
     "outputs": [
      {
       "metadata": {},
       "output_type": "pyout",
       "prompt_number": 8,
       "text": [
        "<module 'calculations' from 'calculations.pyc'>"
       ]
      }
     ],
     "prompt_number": 8
    },
    {
     "cell_type": "heading",
     "level": 2,
     "metadata": {},
     "source": [
      "Battery Size Analysis"
     ]
    },
    {
     "cell_type": "markdown",
     "metadata": {},
     "source": [
      "This section analyzes the performance of the model based on the size of batteries in the system in kilowatt-hours."
     ]
    },
    {
     "cell_type": "markdown",
     "metadata": {},
     "source": [
      "Define efficiencies of inverter and battery."
     ]
    },
    {
     "cell_type": "code",
     "collapsed": false,
     "input": [
      "def inverter_efficiency(direction):\n",
      "    if direction == 'charging':\n",
      "        eff = .85\n",
      "    elif direction == 'discharging':\n",
      "        eff = .85\n",
      "    return eff\n",
      "\n",
      "def battery_efficiency(direction):\n",
      "    if direction == 'charging':\n",
      "        eff = .85\n",
      "    elif direction == 'discharging':\n",
      "        eff = .85\n",
      "    return eff"
     ],
     "language": "python",
     "metadata": {},
     "outputs": [],
     "prompt_number": 9
    },
    {
     "cell_type": "markdown",
     "metadata": {},
     "source": [
      "Create array of all the battery sizes to be analyzed."
     ]
    },
    {
     "cell_type": "code",
     "collapsed": false,
     "input": [
      "battery_sizes = [1., 2., 5., 7.5, 10., 15., 20., 25., 30.]\n",
      "max_dod = .2"
     ],
     "language": "python",
     "metadata": {},
     "outputs": [],
     "prompt_number": 10
    },
    {
     "cell_type": "markdown",
     "metadata": {},
     "source": [
      "Calculate the output and annual cost with normal (static) BGE electricity prices."
     ]
    },
    {
     "cell_type": "code",
     "collapsed": false,
     "input": [
      "R_output = TOU_pricing.main('R',False)\n",
      "R_annual_cost = np.sum(R_output['USAGE'] * R_output['cost'])\n",
      "print R_annual_cost"
     ],
     "language": "python",
     "metadata": {},
     "outputs": [
      {
       "output_type": "stream",
       "stream": "stdout",
       "text": [
        "729.88896351\n"
       ]
      }
     ],
     "prompt_number": 39
    },
    {
     "cell_type": "markdown",
     "metadata": {},
     "source": [
      "This loop determines the model output for each battery size and the relevant metrics for each output.  If save_results is True, a csv for each output (all hourly flows for one year) is saved for each battery size along with a csv containing the metrics for each battery size."
     ]
    },
    {
     "cell_type": "code",
     "collapsed": false,
     "input": [
      "save_results = False\n",
      "\n",
      "t0 = time.time()\n",
      "\n",
      "for i, bat_size in enumerate(battery_sizes):\n",
      "\n",
      "    system_param = {\n",
      "        'Inverter Cost' : 1500., # ballpark\n",
      "        'Storage Cost' : 200. / 1.2, # cost per kilowatt-hour based on link above\n",
      "        'Storage Size' : bat_size,  # storage size in kilowatt-hours\n",
      "        'Max Charge Rate' : bat_size / 8.,\n",
      "        'Max DOD' : max_dod, # DOD\n",
      "        'Bat Depleted' : max_dod * bat_size,\n",
      "        'Inverter Efficiency' : inverter_efficiency,\n",
      "        'Battery Efficiency' : battery_efficiency,\n",
      "    }\n",
      "\n",
      "    results = storage_logic.main(TOU_pricing.main('EV', False), system_param)\n",
      "    filename = 'results/storage_size/output_%s_kWh.csv'%bat_size\n",
      "    if save_results == True: results.to_csv(filename)\n",
      "    \n",
      "    metrics = calculations.calc_metrics(results, system_param)\n",
      "\n",
      "    if i == 0: all_metrics = pd.DataFrame(index=battery_sizes, columns=metrics.keys()) \n",
      "        \n",
      "    all_metrics['Total kWh Purchased'][bat_size] = metrics['Total kWh Purchased']\n",
      "    all_metrics['% Purchased During Peak'][bat_size] = metrics['% Purchased During Peak']\n",
      "    all_metrics['% Purchased During Off-Peak'][bat_size] =  metrics['% Purchased During Off-Peak']\n",
      "    all_metrics['Hours on Battery Only'][bat_size] = metrics['Hours on Battery Only']\n",
      "    all_metrics['% Peak Demand Battery'][bat_size] = metrics['% Peak Demand Battery']\n",
      "    all_metrics['Hours Battery Full'][bat_size] = metrics['Hours Battery Full']\n",
      "    all_metrics['Hours Battery Depleted'][bat_size] = metrics['Hours Battery Depleted']\n",
      "    all_metrics['Annual System Eff'][bat_size] = metrics['Annual System Eff']\n",
      "    all_metrics['Annual Var Cost'][bat_size] = metrics['Annual Var Cost']\n",
      "    all_metrics['Initial Cost'][bat_size] = metrics['Initial Cost']\n",
      "    all_metrics['Peak kWh Shaved'][bat_size] = metrics['Peak kWh Shaved']\n",
      "    all_metrics['% Peak kWh Shaved'][bat_size] = metrics['% Peak kWh Shaved']\n",
      "    all_metrics['PBP'][bat_size] = metrics['PBP']\n",
      "    all_metrics['Annual Savings'][bat_size] = metrics['Annual Savings']\n",
      "    all_metrics['% Annual Cost Savings'][bat_size] = metrics['% Annual Cost Savings']\n",
      "\n",
      "if save_results == True: all_metrics.to_csv('results/storage_size/all_metrics_storage_size.csv')    \n",
      "    \n",
      "t1 = time.time()\n",
      "print 'Time for model run:',round(t1-t0,1),'s'\n",
      "\n"
     ],
     "language": "python",
     "metadata": {},
     "outputs": [
      {
       "output_type": "stream",
       "stream": "stdout",
       "text": [
        "Time for model run: 151.5 s\n"
       ]
      }
     ],
     "prompt_number": 11
    },
    {
     "cell_type": "code",
     "collapsed": false,
     "input": [
      "# We now have a Pandas DataFrame containing metrics that describe the system performance\n",
      "# indexed by battery size.\n",
      "all_metrics.head()"
     ],
     "language": "python",
     "metadata": {},
     "outputs": [
      {
       "html": [
        "<div style=\"max-height:1000px;max-width:1500px;overflow:auto;\">\n",
        "<table border=\"1\" class=\"dataframe\">\n",
        "  <thead>\n",
        "    <tr style=\"text-align: right;\">\n",
        "      <th></th>\n",
        "      <th>PBP</th>\n",
        "      <th>Annual Var Cost</th>\n",
        "      <th>% Peak kWh Shaved</th>\n",
        "      <th>Total kWh Purchased</th>\n",
        "      <th>% Purchased During Off-Peak</th>\n",
        "      <th>Peak kWh Shaved</th>\n",
        "      <th>% Purchased During Peak</th>\n",
        "      <th>% Annual Cost Savings</th>\n",
        "      <th>% Peak Demand Battery</th>\n",
        "      <th>Annual Savings</th>\n",
        "      <th>Initial Cost</th>\n",
        "      <th>Hours Battery Full</th>\n",
        "      <th>Annual System Eff</th>\n",
        "      <th>Hours Battery Depleted</th>\n",
        "      <th>Hours on Battery Only</th>\n",
        "    </tr>\n",
        "  </thead>\n",
        "  <tbody>\n",
        "    <tr>\n",
        "      <th>1.0 </th>\n",
        "      <td> 18.55998</td>\n",
        "      <td> 640.09</td>\n",
        "      <td> 0.1353311</td>\n",
        "      <td> 8566.259</td>\n",
        "      <td> 0.8183945</td>\n",
        "      <td> 243.4825</td>\n",
        "      <td>  0.1816055</td>\n",
        "      <td>  0.123031</td>\n",
        "      <td> 0.1957039</td>\n",
        "      <td> 89.79896</td>\n",
        "      <td> 1666.667</td>\n",
        "      <td> 3914</td>\n",
        "      <td> 0.9739731</td>\n",
        "      <td> 2224</td>\n",
        "      <td>   32</td>\n",
        "    </tr>\n",
        "    <tr>\n",
        "      <th>2.0 </th>\n",
        "      <td> 16.92688</td>\n",
        "      <td> 621.58</td>\n",
        "      <td> 0.2706621</td>\n",
        "      <td> 8789.213</td>\n",
        "      <td> 0.8507037</td>\n",
        "      <td>  486.965</td>\n",
        "      <td>  0.1492963</td>\n",
        "      <td>  0.148391</td>\n",
        "      <td>  0.367376</td>\n",
        "      <td>  108.309</td>\n",
        "      <td> 1833.333</td>\n",
        "      <td> 3914</td>\n",
        "      <td> 0.9492666</td>\n",
        "      <td> 1799</td>\n",
        "      <td>  457</td>\n",
        "    </tr>\n",
        "    <tr>\n",
        "      <th>5.0 </th>\n",
        "      <td> 14.52985</td>\n",
        "      <td>  569.3</td>\n",
        "      <td> 0.6551423</td>\n",
        "      <td> 9423.424</td>\n",
        "      <td> 0.9341582</td>\n",
        "      <td> 1178.707</td>\n",
        "      <td> 0.06584177</td>\n",
        "      <td> 0.2200183</td>\n",
        "      <td> 0.7265188</td>\n",
        "      <td>  160.589</td>\n",
        "      <td> 2333.333</td>\n",
        "      <td>    1</td>\n",
        "      <td> 0.8853795</td>\n",
        "      <td>  795</td>\n",
        "      <td> 1461</td>\n",
        "    </tr>\n",
        "    <tr>\n",
        "      <th>7.5 </th>\n",
        "      <td> 15.39935</td>\n",
        "      <td> 551.31</td>\n",
        "      <td> 0.8048847</td>\n",
        "      <td> 9673.588</td>\n",
        "      <td> 0.9637111</td>\n",
        "      <td> 1448.118</td>\n",
        "      <td> 0.03628891</td>\n",
        "      <td> 0.2446659</td>\n",
        "      <td> 0.8335197</td>\n",
        "      <td>  178.579</td>\n",
        "      <td>     2750</td>\n",
        "      <td>    2</td>\n",
        "      <td> 0.8624831</td>\n",
        "      <td>  382</td>\n",
        "      <td> 1874</td>\n",
        "    </tr>\n",
        "    <tr>\n",
        "      <th>10.0</th>\n",
        "      <td>  17.0978</td>\n",
        "      <td> 544.68</td>\n",
        "      <td> 0.8771617</td>\n",
        "      <td> 9792.536</td>\n",
        "      <td> 0.9774312</td>\n",
        "      <td> 1578.156</td>\n",
        "      <td> 0.02256882</td>\n",
        "      <td> 0.2537495</td>\n",
        "      <td> 0.8975529</td>\n",
        "      <td>  185.209</td>\n",
        "      <td> 3166.667</td>\n",
        "      <td>    1</td>\n",
        "      <td> 0.8520066</td>\n",
        "      <td>  248</td>\n",
        "      <td> 2008</td>\n",
        "    </tr>\n",
        "  </tbody>\n",
        "</table>\n",
        "</div>"
       ],
       "metadata": {},
       "output_type": "pyout",
       "prompt_number": 40,
       "text": [
        "           PBP Annual Var Cost % Peak kWh Shaved Total kWh Purchased  \\\n",
        "1.0   18.55998          640.09         0.1353311            8566.259   \n",
        "2.0   16.92688          621.58         0.2706621            8789.213   \n",
        "5.0   14.52985           569.3         0.6551423            9423.424   \n",
        "7.5   15.39935          551.31         0.8048847            9673.588   \n",
        "10.0   17.0978          544.68         0.8771617            9792.536   \n",
        "\n",
        "     % Purchased During Off-Peak Peak kWh Shaved % Purchased During Peak  \\\n",
        "1.0                    0.8183945        243.4825               0.1816055   \n",
        "2.0                    0.8507037         486.965               0.1492963   \n",
        "5.0                    0.9341582        1178.707              0.06584177   \n",
        "7.5                    0.9637111        1448.118              0.03628891   \n",
        "10.0                   0.9774312        1578.156              0.02256882   \n",
        "\n",
        "     % Annual Cost Savings % Peak Demand Battery Annual Savings Initial Cost  \\\n",
        "1.0               0.123031             0.1957039       89.79896     1666.667   \n",
        "2.0               0.148391              0.367376        108.309     1833.333   \n",
        "5.0              0.2200183             0.7265188        160.589     2333.333   \n",
        "7.5              0.2446659             0.8335197        178.579         2750   \n",
        "10.0             0.2537495             0.8975529        185.209     3166.667   \n",
        "\n",
        "     Hours Battery Full Annual System Eff Hours Battery Depleted  \\\n",
        "1.0                3914         0.9739731                   2224   \n",
        "2.0                3914         0.9492666                   1799   \n",
        "5.0                   1         0.8853795                    795   \n",
        "7.5                   2         0.8624831                    382   \n",
        "10.0                  1         0.8520066                    248   \n",
        "\n",
        "     Hours on Battery Only  \n",
        "1.0                     32  \n",
        "2.0                    457  \n",
        "5.0                   1461  \n",
        "7.5                   1874  \n",
        "10.0                  2008  "
       ]
      }
     ],
     "prompt_number": 40
    },
    {
     "cell_type": "heading",
     "level": 3,
     "metadata": {},
     "source": [
      "Simple Payback Period"
     ]
    },
    {
     "cell_type": "markdown",
     "metadata": {},
     "source": [
      "Plot the simple payback period as a function of battery size."
     ]
    },
    {
     "cell_type": "code",
     "collapsed": false,
     "input": [
      "save_fig = True\n",
      "\n",
      "a = 6.\n",
      "fig = plt.figure(figsize=[1.3*a,a])\n",
      "ax = subplot(111)\n",
      "\n",
      "# turn off square border around plot\n",
      "ax.spines[\"top\"].set_visible(False)  \n",
      "ax.spines[\"bottom\"].set_visible(False)  \n",
      "ax.spines[\"right\"].set_visible(False)  \n",
      "ax.spines[\"left\"].set_visible(False)\n",
      "\n",
      "# ensure only ticks on bottom and left, not top and right (unnecessary)\n",
      "#ax.get_xaxis().tick_bottom()  \n",
      "#ax.get_yaxis().tick_left()  \n",
      "\n",
      "all_metrics['PBP'].plot(grid='off',color='#FF3300',linewidth=2,marker='.',markersize=14)\n",
      "title('Payback Period in Years',fontsize=16)\n",
      "xlabel('Storage Size (kWh)',fontsize=14)\n",
      "xticks(fontsize=14)\n",
      "yticks(fontsize=14)\n",
      "\n",
      "# turn off tick marks\n",
      "plt.tick_params(axis=\"both\", which=\"both\", bottom=\"off\", top=\"off\",\n",
      "                labelbottom=\"on\", left=\"off\", right=\"off\", labelleft=\"on\")  \n",
      "\n",
      "ylabel('Years',fontsize=14)\n",
      "\n",
      "if save_fig == True: fig.savefig('results/storage_size/PBP.png',bbox_inches='tight')\n"
     ],
     "language": "python",
     "metadata": {},
     "outputs": [
      {
       "metadata": {},
       "output_type": "display_data",
       "png": "[encoded data removed]",
       "text": [
        "<matplotlib.figure.Figure at 0x115631cd0>"
       ]
      }
     ],
     "prompt_number": 178
    },
    {
     "cell_type": "heading",
     "level": 3,
     "metadata": {},
     "source": [
      "Cost Savings"
     ]
    },
    {
     "cell_type": "markdown",
     "metadata": {},
     "source": [
      "Plot the cost savings ($ and %) compared to a normal BGE plan without time-of-use pricing."
     ]
    },
    {
     "cell_type": "code",
     "collapsed": false,
     "input": [
      "save_fig = True\n",
      "\n",
      "a = 6.\n",
      "fig = plt.figure(figsize=[1.3*a,a])\n",
      "ax1 = plt.subplot(111)\n",
      "\n",
      "\n",
      "# Ticks\n",
      "ticks_left = np.array(range(10,30,2))/100.\n",
      "ticks_right_ymin = min(ticks_left) * R_annual_cost\n",
      "ticks_right_ymax = max(ticks_left) * R_annual_cost\n",
      "ticks_right = np.array(range(80,200,20))\n",
      "\n",
      "# turn off square border around plot\n",
      "ax1.spines[\"top\"].set_visible(False)  \n",
      "ax1.spines[\"bottom\"].set_visible(False)  \n",
      "ax1.spines[\"right\"].set_visible(False)  \n",
      "ax1.spines[\"left\"].set_visible(False)\n",
      "\n",
      "title('Annual Electricity Bill Cost Savings',fontsize=16)\n",
      "xlabel('Storage Size (kWh)',fontsize=14)\n",
      "xticks(fontsize=14)\n",
      "\n",
      "ax1.plot(all_metrics.index, all_metrics['% Annual Cost Savings'],color='#FF3300',linewidth=2,marker='.',markersize=14)\n",
      "ax1.set_ylabel('% Annual Savings', fontsize=14)\n",
      "\n",
      "ax2 = ax1.twinx()\n",
      "ax2.set_ylim(min(all_metrics['Annual Savings']), max(all_metrics['Annual Savings']))\n",
      "ax2.set_yticklabels(ticks_right, fontsize=14)\n",
      "ax2.set_ylabel('Annual Savings (USD)', fontsize=14)\n",
      "\n",
      "\n",
      "# turn off ticks\n",
      "ax1.tick_params(axis=\"both\", which=\"both\", bottom=\"off\", top=\"off\",\n",
      "               labelbottom=\"on\", left=\"off\", right=\"off\", labelleft=\"on\",labelsize=14) \n",
      "ax2.tick_params(axis=\"y\", which=\"both\", bottom=\"off\", top=\"off\",\n",
      "               labelbottom=\"on\", left=\"off\", right=\"off\", labelleft=\"off\",labelsize=14) \n",
      "\n",
      "\n",
      "\n",
      "if save_fig == True: fig.savefig('results/storage_size/cost_savings.png',bbox_inches='tight')"
     ],
     "language": "python",
     "metadata": {},
     "outputs": [
      {
       "metadata": {},
       "output_type": "display_data",
       "png": "[encoded data removed]",
       "text": [
        "<matplotlib.figure.Figure at 0x11385ff10>"
       ]
      }
     ],
     "prompt_number": 177
    },
    {
     "cell_type": "heading",
     "level": 3,
     "metadata": {},
     "source": [
      "Peak Load Shaving"
     ]
    },
    {
     "cell_type": "markdown",
     "metadata": {},
     "source": [
      "Number/percent of kilowatt-hours no longer purchased during peak hours compared to normal BGE cost plan and no storage."
     ]
    },
    {
     "cell_type": "code",
     "collapsed": false,
     "input": [
      "save_fig = True\n",
      "\n",
      "a = 6.\n",
      "fig = plt.figure(figsize=[1.3*a,a])\n",
      "ax1 = plt.subplot(111)\n",
      "\n",
      "# Ticks\n",
      "\n",
      "ticks_right = np.array(range(0,2000,200))\n",
      "\n",
      "# turn off square border around plot\n",
      "ax1.spines[\"top\"].set_visible(False)  \n",
      "ax1.spines[\"bottom\"].set_visible(False)  \n",
      "ax1.spines[\"right\"].set_visible(False)  \n",
      "ax1.spines[\"left\"].set_visible(False)\n",
      "\n",
      "title('Demand Shaved From Peak Hours',fontsize=16)\n",
      "xlabel('Storage Size (kWh)',fontsize=14)\n",
      "xticks(fontsize=14)\n",
      "\n",
      "ax1.plot(all_metrics.index, all_metrics['% Peak kWh Shaved'],color='#FF3300',linewidth=2,marker='.',markersize=14)\n",
      "ax1.set_ylabel('% Peak Demand Shaved', fontsize=14)\n",
      "ax1.set_ylim(0,1.1)\n",
      "\n",
      "ax2 = ax1.twinx()\n",
      "ax2.set_yticks(ticks_right)\n",
      "ax2.set_yticklabels(ticks_right, fontsize=14)\n",
      "ax2.set_ylim(0,1.1*max(all_metrics['Peak kWh Shaved']))\n",
      "ax2.set_ylabel('Peak Demand Shaved (kWh)', fontsize=14)\n",
      "\n",
      "# turn off ticks\n",
      "ax1.tick_params(axis=\"both\", which=\"both\", bottom=\"off\", top=\"off\",\n",
      "               labelbottom=\"on\", left=\"off\", right=\"off\", labelleft=\"on\",labelsize=14) \n",
      "ax2.tick_params(axis=\"y\", which=\"both\", bottom=\"off\", top=\"off\",\n",
      "               labelbottom=\"on\", left=\"off\", right=\"off\", labelleft=\"off\",labelsize=14) \n",
      "\n",
      "if save_fig == True: fig.savefig('results/storage_size/peak_shaved_stor_cap.png',bbox_inches='tight')"
     ],
     "language": "python",
     "metadata": {},
     "outputs": [
      {
       "metadata": {},
       "output_type": "display_data",
       "png": "[encoded data removed]",
       "text": [
        "<matplotlib.figure.Figure at 0x11151f410>"
       ]
      }
     ],
     "prompt_number": 243
    },
    {
     "cell_type": "heading",
     "level": 3,
     "metadata": {},
     "source": [
      "System Efficiency"
     ]
    },
    {
     "cell_type": "markdown",
     "metadata": {},
     "source": [
      "Plot of total annual kilowatt-hours purchased and the resulting overall system efficiency."
     ]
    },
    {
     "cell_type": "code",
     "collapsed": false,
     "input": [
      "save_fig = True\n",
      "\n",
      "a = 6.\n",
      "fig = plt.figure(figsize=[1.3*a,a])\n",
      "ax1 = plt.subplot(111)\n",
      "\n",
      "# Ticks\n",
      "ticks_right = np.array(range(0,2000,200))\n",
      "\n",
      "# turn off square border around plot\n",
      "ax1.spines[\"top\"].set_visible(False)  \n",
      "ax1.spines[\"bottom\"].set_visible(False)  \n",
      "ax1.spines[\"right\"].set_visible(False)  \n",
      "ax1.spines[\"left\"].set_visible(False)\n",
      "\n",
      "title('Annual System Efficiency',fontsize=16)\n",
      "xlabel('Storage Size (kWh)',fontsize=14)\n",
      "xticks(fontsize=14)\n",
      "\n",
      "ax1.plot(all_metrics.index, all_metrics['Total kWh Purchased'],color='#FF3300',linewidth=2,marker='.',markersize=14)\n",
      "ax1.set_ylabel('Total kWh Purchased', fontsize=14, color='#FF3300')\n",
      "#ax1.set_ylim(0,1.1)\n",
      "\n",
      "ax2 = ax1.twinx()\n",
      "ax2.plot(all_metrics.index, all_metrics['Annual System Eff'],color='#00CCFF',linewidth=2,marker='.',markersize=14)\n",
      "#ax2.set_yticks([0,.25,.5,1])\n",
      "#ax2.set_yticklabels(, fontsize=14)\n",
      "ax2.set_ylim(0,1)\n",
      "ax2.set_ylabel('System Efficiency', fontsize=14, color='#00CCFF')\n",
      "\n",
      "# turn off ticks\n",
      "ax1.tick_params(axis=\"both\", which=\"both\", bottom=\"off\", top=\"off\",\n",
      "               labelbottom=\"on\", left=\"off\", right=\"off\", labelleft=\"on\",labelsize=14) \n",
      "ax2.tick_params(axis=\"y\", which=\"both\", bottom=\"off\", top=\"off\",\n",
      "               labelbottom=\"on\", left=\"off\", right=\"off\", labelleft=\"off\",labelsize=14) \n",
      "\n",
      "if save_fig == True: fig.savefig('results/storage_size/sys_eff_stor_cap.png',bbox_inches='tight')"
     ],
     "language": "python",
     "metadata": {},
     "outputs": [
      {
       "metadata": {},
       "output_type": "display_data",
       "png": "[encoded data removed]",
       "text": [
        "<matplotlib.figure.Figure at 0x113864d10>"
       ]
      }
     ],
     "prompt_number": 247
    },
    {
     "cell_type": "code",
     "collapsed": false,
     "input": [],
     "language": "python",
     "metadata": {},
     "outputs": [],
     "prompt_number": 247
    },
    {
     "cell_type": "code",
     "collapsed": false,
     "input": [],
     "language": "python",
     "metadata": {},
     "outputs": [],
     "prompt_number": 247
    },
    {
     "cell_type": "code",
     "collapsed": false,
     "input": [],
     "language": "python",
     "metadata": {},
     "outputs": [],
     "prompt_number": 18
    },
    {
     "cell_type": "code",
     "collapsed": false,
     "input": [],
     "language": "python",
     "metadata": {},
     "outputs": []
    }
   ],
   "metadata": {}
  }
 ]
}