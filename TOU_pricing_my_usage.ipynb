{
 "metadata": {
  "name": "TOU_pricing_my_usage"
 },
 "nbformat": 3,
 "nbformat_minor": 0,
 "worksheets": [
  {
   "cells": [
    {
     "cell_type": "code",
     "collapsed": false,
     "input": [
      "#%reset\n",
      "import pandas as pd\n",
      "import TOU_pricing\n",
      "import numpy as np\n",
      "#reload(TOU_pricing)"
     ],
     "language": "python",
     "metadata": {},
     "outputs": [],
     "prompt_number": 70
    },
    {
     "cell_type": "code",
     "collapsed": false,
     "input": [
      "gray_light = '#bbbbbb'\n",
      "gray_med = '#737373'\n",
      "red_orange = '#ff3700'"
     ],
     "language": "python",
     "metadata": {},
     "outputs": [],
     "prompt_number": 71
    },
    {
     "cell_type": "code",
     "collapsed": false,
     "input": [
      "my_demand_new = pd.read_csv('raw_data/new_apt_demand_thru_july2014.csv',index_col='timestamp',parse_dates=True)\n",
      "my_demand_old = pd.read_csv('raw_data/old_apt_demand.csv',index_col='timestamp',parse_dates=True)\n",
      "\n",
      "green_button_sample = pd.read_csv('raw_data/Green_Button_Sample_Inland_SingleFamily.csv',index_col='timestamp',parse_dates=True)"
     ],
     "language": "python",
     "metadata": {},
     "outputs": [],
     "prompt_number": 72
    },
    {
     "cell_type": "code",
     "collapsed": false,
     "input": [
      "my_demand = my_demand_old.append(my_demand_new)\n",
      "\n",
      "my_demand_cost = TOU_pricing.BGE_elec_cost(my_demand)\n",
      "green_button_sample_cost = TOU_pricing.BGE_elec_cost(green_button_sample)\n",
      "\n",
      "my_demand_cost['BGE-R_cost'] = my_demand_cost['USAGE'] * my_demand_cost['BGE-R_cost_perkWh']\n",
      "my_demand_cost['BGE-RL_cost'] = my_demand_cost['USAGE'] * my_demand_cost['BGE-RL_cost_perkWh']\n",
      "my_demand_cost['BGE-EV_cost'] = my_demand_cost['USAGE'] * my_demand_cost['BGE-EV_cost_perkWh']\n",
      "\n",
      "green_button_sample_cost['BGE-R_cost'] = green_button_sample_cost['USAGE'] * green_button_sample_cost['BGE-R_cost_perkWh']\n",
      "green_button_sample_cost['BGE-RL_cost'] = green_button_sample_cost['USAGE'] * green_button_sample_cost['BGE-RL_cost_perkWh']\n",
      "green_button_sample_cost['BGE-EV_cost'] = green_button_sample_cost['USAGE'] * green_button_sample_cost['BGE-EV_cost_perkWh']\n",
      "\n"
     ],
     "language": "python",
     "metadata": {},
     "outputs": [],
     "prompt_number": 73
    },
    {
     "cell_type": "code",
     "collapsed": false,
     "input": [
      "month = 'jul-2014'\n",
      "\n",
      "print 'Total usage:', round(sum(my_demand_cost['USAGE'].ix[month]),2),'kWh \\n'\n",
      "print 'R total: $', round(sum(my_demand_cost['USAGE'].ix[month] * my_demand_cost['BGE-R_cost_perkWh'].ix[month]),2)\n",
      "print 'RL total: $', round(sum(my_demand_cost['USAGE'].ix[month] * my_demand_cost['BGE-RL_cost_perkWh'].ix[month]),2)\n",
      "print 'EV total: $', round(sum(my_demand_cost['USAGE'].ix[month] * my_demand_cost['BGE-EV_cost_perkWh'].ix[month]),2)\n",
      "\n",
      "\n"
     ],
     "language": "python",
     "metadata": {},
     "outputs": [
      {
       "output_type": "stream",
       "stream": "stdout",
       "text": [
        "Total usage: 671.6 kWh \n",
        "\n",
        "R total: $ 57.87\n",
        "RL total: $ 54.38\n",
        "EV total: $ 47.31\n"
       ]
      }
     ],
     "prompt_number": 87
    },
    {
     "cell_type": "code",
     "collapsed": false,
     "input": [
      "jul_elec_bill = 93.49\n",
      "print round(sum(my_demand_cost['USAGE'].ix['jul-2014'] * my_demand_cost['BGE-R_cost_perkWh'].ix['jul-2014']),2)/jul_elec_bill"
     ],
     "language": "python",
     "metadata": {},
     "outputs": [
      {
       "output_type": "stream",
       "stream": "stdout",
       "text": [
        "0.618996684137\n"
       ]
      }
     ],
     "prompt_number": 75
    },
    {
     "cell_type": "code",
     "collapsed": false,
     "input": [
      "\n",
      "my_monthly_diffs = pd.DataFrame(np.zeros((7,3)),columns=['R-RL','R-EV','USAGE'],index=[1,2,3,4,5,6,7])\n",
      "my_monthly_diffs['R-RL'] = my_demand_cost['BGE-R_cost'].groupby(my_demand_cost.index.month).sum()-my_demand_cost['BGE-RL_cost'].groupby(my_demand_cost.index.month).sum()\n",
      "my_monthly_diffs['R-EV'] = my_demand_cost['BGE-R_cost'].groupby(my_demand_cost.index.month).sum()-my_demand_cost['BGE-EV_cost'].groupby(my_demand_cost.index.month).sum()\n",
      "my_monthly_diffs['USAGE'] = my_demand_cost['USAGE'].groupby(my_demand_cost.index.month).sum()\n",
      "my_monthly_diffs.index = ['Jan','Feb','Mar','Apr','May','Jun','Jul']\n",
      "my_monthly_diffs = my_monthly_diffs.drop(['May'])\n",
      "my_monthly_diffs[:10]"
     ],
     "language": "python",
     "metadata": {},
     "outputs": [
      {
       "html": [
        "<div style=\"max-height:1000px;max-width:1500px;overflow:auto;\">\n",
        "<table border=\"1\" class=\"dataframe\">\n",
        "  <thead>\n",
        "    <tr style=\"text-align: right;\">\n",
        "      <th></th>\n",
        "      <th>R-RL</th>\n",
        "      <th>R-EV</th>\n",
        "      <th>USAGE</th>\n",
        "    </tr>\n",
        "  </thead>\n",
        "  <tbody>\n",
        "    <tr>\n",
        "      <th>Jan</th>\n",
        "      <td> 1.216777</td>\n",
        "      <td>  1.456228</td>\n",
        "      <td>  787.34</td>\n",
        "    </tr>\n",
        "    <tr>\n",
        "      <th>Feb</th>\n",
        "      <td> 1.812211</td>\n",
        "      <td>  2.080608</td>\n",
        "      <td> 1086.16</td>\n",
        "    </tr>\n",
        "    <tr>\n",
        "      <th>Mar</th>\n",
        "      <td> 0.972739</td>\n",
        "      <td>  1.036178</td>\n",
        "      <td>  641.49</td>\n",
        "    </tr>\n",
        "    <tr>\n",
        "      <th>Apr</th>\n",
        "      <td> 0.047755</td>\n",
        "      <td> -0.440503</td>\n",
        "      <td>  195.86</td>\n",
        "    </tr>\n",
        "    <tr>\n",
        "      <th>Jun</th>\n",
        "      <td> 2.626015</td>\n",
        "      <td>  8.097076</td>\n",
        "      <td>  636.66</td>\n",
        "    </tr>\n",
        "    <tr>\n",
        "      <th>Jul</th>\n",
        "      <td> 3.481570</td>\n",
        "      <td> 10.552970</td>\n",
        "      <td>  671.60</td>\n",
        "    </tr>\n",
        "  </tbody>\n",
        "</table>\n",
        "</div>"
       ],
       "output_type": "pyout",
       "prompt_number": 76,
       "text": [
        "         R-RL       R-EV    USAGE\n",
        "Jan  1.216777   1.456228   787.34\n",
        "Feb  1.812211   2.080608  1086.16\n",
        "Mar  0.972739   1.036178   641.49\n",
        "Apr  0.047755  -0.440503   195.86\n",
        "Jun  2.626015   8.097076   636.66\n",
        "Jul  3.481570  10.552970   671.60"
       ]
      }
     ],
     "prompt_number": 76
    },
    {
     "cell_type": "code",
     "collapsed": false,
     "input": [
      "print sum(my_monthly_diffs['R-RL'])\n",
      "print sum(my_monthly_diffs['R-EV'])"
     ],
     "language": "python",
     "metadata": {},
     "outputs": [
      {
       "output_type": "stream",
       "stream": "stdout",
       "text": [
        "10.1570672\n",
        "22.7825565\n"
       ]
      }
     ],
     "prompt_number": 77
    },
    {
     "cell_type": "code",
     "collapsed": false,
     "input": [
      "width = .4\n",
      "ind = np.arange(len(my_monthly_diffs['R-EV']))+1\n",
      "fig, ax = plt.subplots(figsize=[4,4])\n",
      "ax.barh(ind,my_monthly_diffs['R-EV'],width,color=red_orange,label='EV')\n",
      "ax.barh(ind+width,my_monthly_diffs['R-RL'],width,color=gray_light,label='RL')\n",
      "ax.set_yticks(ind+width)\n",
      "ax.set_yticklabels(my_monthly_diffs.index)\n",
      "xlim([-2,12])\n",
      "ylim([min(ind)-width,max(ind)+3*width])\n",
      "title('Cost Savings on BGE Electricity Bill, My Usage \\n Compared to Residential \"R\" Plan')\n",
      "xlabel('Cost Saved (USD)')\n",
      "legend(loc='lower right')\n",
      "subplots_adjust(top=.85)\n",
      "fig.savefig('plots/My_Cost_Savings_TOU_Pricing.png')"
     ],
     "language": "python",
     "metadata": {},
     "outputs": [
      {
       "output_type": "display_data",
       "png": "[encoded data removed]"
      }
     ],
     "prompt_number": 84
    },
    {
     "cell_type": "code",
     "collapsed": false,
     "input": [
      "gb_monthly_diffs = pd.DataFrame(np.zeros((12,3)),columns=['R-RL','R-EV','USAGE'],index=[1,2,3,4,5,6,7,8,9,10,11,12])\n",
      "gb_monthly_diffs['R-RL'] = green_button_sample_cost['BGE-R_cost'].groupby(green_button_sample_cost.index.month).sum()-green_button_sample_cost['BGE-RL_cost'].groupby(green_button_sample_cost.index.month).sum()\n",
      "gb_monthly_diffs['R-EV'] = green_button_sample_cost['BGE-R_cost'].groupby(green_button_sample_cost.index.month).sum()-green_button_sample_cost['BGE-EV_cost'].groupby(green_button_sample_cost.index.month).sum()\n",
      "gb_monthly_diffs['USAGE'] = green_button_sample_cost['USAGE'].groupby(green_button_sample_cost.index.month).sum()\n",
      "gb_monthly_diffs.index = ['Jan','Feb','Mar','Apr','May','Jun','Jul','Aug','Sep','Oct','Nov','Dec']\n"
     ],
     "language": "python",
     "metadata": {},
     "outputs": [],
     "prompt_number": 79
    },
    {
     "cell_type": "code",
     "collapsed": false,
     "input": [
      "width = .4\n",
      "ind = np.arange(len(gb_monthly_diffs['R-EV']))+1\n",
      "fig, ax = plt.subplots(figsize=[4,8])\n",
      "ax.barh(ind,gb_monthly_diffs['R-EV'],width,color=red_orange,label='EV')\n",
      "ax.barh(ind+width,gb_monthly_diffs['R-RL'],width,color=gray_light,label='RL')\n",
      "ax.set_yticks(ind+width)\n",
      "ax.set_yticklabels(gb_monthly_diffs.index)\n",
      "xlim([-2,12])\n",
      "ylim([min(ind)-width,max(ind)+3*width])\n",
      "title('Cost Savings on BGE Electricity Bill \\n Green Button Sample \\n Compared to Residential \"R\" Plan')\n",
      "xlabel('Cost Saved (USD)')\n",
      "legend(loc='lower right')\n",
      "subplots_adjust(top=.9)\n",
      "fig.savefig('plots/GB_Cost_Savings_TOU_Pricing.png')"
     ],
     "language": "python",
     "metadata": {},
     "outputs": [
      {
       "output_type": "display_data",
       "png": "[encoded data removed]"
      }
     ],
     "prompt_number": 86
    },
    {
     "cell_type": "code",
     "collapsed": false,
     "input": [
      "print 'Annual Usage:', round(sum(gb_monthly_diffs['USAGE']),1),'kWh'\n",
      "print 'Annual Cost Savings: $',round(sum(gb_monthly_diffs['R-RL']),2)\n",
      "print 'Annual Cost Savings: $',round(sum(gb_monthly_diffs['R-EV']),2)"
     ],
     "language": "python",
     "metadata": {},
     "outputs": [
      {
       "output_type": "stream",
       "stream": "stdout",
       "text": [
        "Annual Usage: "
       ]
      },
      {
       "output_type": "stream",
       "stream": "stdout",
       "text": [
        "8343.3 kWh\n",
        "Annual Cost Savings: $ 27.23\n",
        "Annual Cost Savings: $ 60.25\n"
       ]
      }
     ],
     "prompt_number": 83
    },
    {
     "cell_type": "code",
     "collapsed": false,
     "input": [
      "fig = plt.figure()\n",
      "\n",
      "#plot2 = gb_monthly_diffs['USAGE'].plot(marker='o')\n",
      "plot1 = my_monthly_diffs['USAGE'].plot(marker='o')"
     ],
     "language": "python",
     "metadata": {},
     "outputs": [
      {
       "output_type": "display_data",
       "png": "[encoded data removed]"
      }
     ],
     "prompt_number": 82
    },
    {
     "cell_type": "code",
     "collapsed": false,
     "input": [],
     "language": "python",
     "metadata": {},
     "outputs": [],
     "prompt_number": 82
    },
    {
     "cell_type": "code",
     "collapsed": false,
     "input": [],
     "language": "python",
     "metadata": {},
     "outputs": []
    }
   ],
   "metadata": {}
  }
 ]
}